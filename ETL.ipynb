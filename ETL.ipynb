{
 "cells": [
  {
   "cell_type": "markdown",
   "metadata": {},
   "source": [
    "## Importamos las librerias que vamos a utilizar"
   ]
  },
  {
   "cell_type": "code",
   "execution_count": 67,
   "metadata": {},
   "outputs": [],
   "source": [
    "import pandas as pd\n",
    "import numpy as np\n",
    "import matplotlib.pyplot as plt\n",
    "import seaborn as sns\n",
    "from scipy import stats\n",
    "from textblob import TextBlob\n",
    "import warnings\n",
    "warnings.filterwarnings(\"ignore\")"
   ]
  },
  {
   "cell_type": "code",
   "execution_count": 33,
   "metadata": {},
   "outputs": [],
   "source": [
    "# Transformamos los datasets en dataframes\n",
    "calendar = pd.read_csv('Datasets/calendar.csv')\n",
    "listings = pd.read_csv('Datasets/listings.csv')\n",
    "reviews = pd.read_csv('Datasets/reviews.csv')"
   ]
  },
  {
   "cell_type": "code",
   "execution_count": 34,
   "metadata": {},
   "outputs": [
    {
     "data": {
      "text/html": [
       "<div>\n",
       "<style scoped>\n",
       "    .dataframe tbody tr th:only-of-type {\n",
       "        vertical-align: middle;\n",
       "    }\n",
       "\n",
       "    .dataframe tbody tr th {\n",
       "        vertical-align: top;\n",
       "    }\n",
       "\n",
       "    .dataframe thead th {\n",
       "        text-align: right;\n",
       "    }\n",
       "</style>\n",
       "<table border=\"1\" class=\"dataframe\">\n",
       "  <thead>\n",
       "    <tr style=\"text-align: right;\">\n",
       "      <th></th>\n",
       "      <th>listing_id</th>\n",
       "      <th>date</th>\n",
       "      <th>available</th>\n",
       "      <th>price</th>\n",
       "      <th>adjusted_price</th>\n",
       "      <th>minimum_nights</th>\n",
       "      <th>maximum_nights</th>\n",
       "    </tr>\n",
       "  </thead>\n",
       "  <tbody>\n",
       "    <tr>\n",
       "      <th>0</th>\n",
       "      <td>50778</td>\n",
       "      <td>2020-04-26</td>\n",
       "      <td>f</td>\n",
       "      <td>$2,655.00</td>\n",
       "      <td>$2,655.00</td>\n",
       "      <td>5.0</td>\n",
       "      <td>1125.0</td>\n",
       "    </tr>\n",
       "    <tr>\n",
       "      <th>1</th>\n",
       "      <td>133654</td>\n",
       "      <td>2020-04-27</td>\n",
       "      <td>t</td>\n",
       "      <td>$1,150.00</td>\n",
       "      <td>$1,150.00</td>\n",
       "      <td>4.0</td>\n",
       "      <td>1125.0</td>\n",
       "    </tr>\n",
       "    <tr>\n",
       "      <th>2</th>\n",
       "      <td>133654</td>\n",
       "      <td>2020-04-28</td>\n",
       "      <td>t</td>\n",
       "      <td>$1,150.00</td>\n",
       "      <td>$1,150.00</td>\n",
       "      <td>4.0</td>\n",
       "      <td>1125.0</td>\n",
       "    </tr>\n",
       "  </tbody>\n",
       "</table>\n",
       "</div>"
      ],
      "text/plain": [
       "   listing_id        date available      price adjusted_price  minimum_nights  \\\n",
       "0       50778  2020-04-26         f  $2,655.00      $2,655.00             5.0   \n",
       "1      133654  2020-04-27         t  $1,150.00      $1,150.00             4.0   \n",
       "2      133654  2020-04-28         t  $1,150.00      $1,150.00             4.0   \n",
       "\n",
       "   maximum_nights  \n",
       "0          1125.0  \n",
       "1          1125.0  \n",
       "2          1125.0  "
      ]
     },
     "execution_count": 34,
     "metadata": {},
     "output_type": "execute_result"
    }
   ],
   "source": [
    "calendar.head(3)"
   ]
  },
  {
   "cell_type": "code",
   "execution_count": 35,
   "metadata": {},
   "outputs": [
    {
     "data": {
      "text/html": [
       "<div>\n",
       "<style scoped>\n",
       "    .dataframe tbody tr th:only-of-type {\n",
       "        vertical-align: middle;\n",
       "    }\n",
       "\n",
       "    .dataframe tbody tr th {\n",
       "        vertical-align: top;\n",
       "    }\n",
       "\n",
       "    .dataframe thead th {\n",
       "        text-align: right;\n",
       "    }\n",
       "</style>\n",
       "<table border=\"1\" class=\"dataframe\">\n",
       "  <thead>\n",
       "    <tr style=\"text-align: right;\">\n",
       "      <th></th>\n",
       "      <th>id</th>\n",
       "      <th>listing_url</th>\n",
       "      <th>scrape_id</th>\n",
       "      <th>last_scraped</th>\n",
       "      <th>name</th>\n",
       "      <th>summary</th>\n",
       "      <th>space</th>\n",
       "      <th>description</th>\n",
       "      <th>experiences_offered</th>\n",
       "      <th>neighborhood_overview</th>\n",
       "      <th>...</th>\n",
       "      <th>instant_bookable</th>\n",
       "      <th>is_business_travel_ready</th>\n",
       "      <th>cancellation_policy</th>\n",
       "      <th>require_guest_profile_picture</th>\n",
       "      <th>require_guest_phone_verification</th>\n",
       "      <th>calculated_host_listings_count</th>\n",
       "      <th>calculated_host_listings_count_entire_homes</th>\n",
       "      <th>calculated_host_listings_count_private_rooms</th>\n",
       "      <th>calculated_host_listings_count_shared_rooms</th>\n",
       "      <th>reviews_per_month</th>\n",
       "    </tr>\n",
       "  </thead>\n",
       "  <tbody>\n",
       "    <tr>\n",
       "      <th>0</th>\n",
       "      <td>11508</td>\n",
       "      <td>https://www.airbnb.com/rooms/11508</td>\n",
       "      <td>20200426042522</td>\n",
       "      <td>2020-04-26</td>\n",
       "      <td>Amazing Luxurious Apt-Palermo Soho</td>\n",
       "      <td>NaN</td>\n",
       "      <td>LUXURIOUS NEW APT: 1 BDRM- POOL/ GYM/ SPA/ 24-...</td>\n",
       "      <td>LUXURIOUS NEW APT: 1 BDRM- POOL/ GYM/ SPA/ 24-...</td>\n",
       "      <td>none</td>\n",
       "      <td>AREA: PALERMO SOHO Minutes walking distance fr...</td>\n",
       "      <td>...</td>\n",
       "      <td>f</td>\n",
       "      <td>f</td>\n",
       "      <td>strict_14_with_grace_period</td>\n",
       "      <td>f</td>\n",
       "      <td>f</td>\n",
       "      <td>1</td>\n",
       "      <td>1</td>\n",
       "      <td>0</td>\n",
       "      <td>0</td>\n",
       "      <td>0.27</td>\n",
       "    </tr>\n",
       "    <tr>\n",
       "      <th>1</th>\n",
       "      <td>12463</td>\n",
       "      <td>https://www.airbnb.com/rooms/12463</td>\n",
       "      <td>20200426042522</td>\n",
       "      <td>2020-04-26</td>\n",
       "      <td>Room in Recoleta - awesome location</td>\n",
       "      <td>My apartment is centrally located in Recoleta ...</td>\n",
       "      <td>This is a very comfortable pull-out sofa in th...</td>\n",
       "      <td>My apartment is centrally located in Recoleta ...</td>\n",
       "      <td>none</td>\n",
       "      <td>It's near the school of medicine so the street...</td>\n",
       "      <td>...</td>\n",
       "      <td>f</td>\n",
       "      <td>f</td>\n",
       "      <td>moderate</td>\n",
       "      <td>f</td>\n",
       "      <td>f</td>\n",
       "      <td>1</td>\n",
       "      <td>0</td>\n",
       "      <td>1</td>\n",
       "      <td>0</td>\n",
       "      <td>0.16</td>\n",
       "    </tr>\n",
       "  </tbody>\n",
       "</table>\n",
       "<p>2 rows × 106 columns</p>\n",
       "</div>"
      ],
      "text/plain": [
       "      id                         listing_url       scrape_id last_scraped  \\\n",
       "0  11508  https://www.airbnb.com/rooms/11508  20200426042522   2020-04-26   \n",
       "1  12463  https://www.airbnb.com/rooms/12463  20200426042522   2020-04-26   \n",
       "\n",
       "                                  name  \\\n",
       "0   Amazing Luxurious Apt-Palermo Soho   \n",
       "1  Room in Recoleta - awesome location   \n",
       "\n",
       "                                             summary  \\\n",
       "0                                                NaN   \n",
       "1  My apartment is centrally located in Recoleta ...   \n",
       "\n",
       "                                               space  \\\n",
       "0  LUXURIOUS NEW APT: 1 BDRM- POOL/ GYM/ SPA/ 24-...   \n",
       "1  This is a very comfortable pull-out sofa in th...   \n",
       "\n",
       "                                         description experiences_offered  \\\n",
       "0  LUXURIOUS NEW APT: 1 BDRM- POOL/ GYM/ SPA/ 24-...                none   \n",
       "1  My apartment is centrally located in Recoleta ...                none   \n",
       "\n",
       "                               neighborhood_overview  ... instant_bookable  \\\n",
       "0  AREA: PALERMO SOHO Minutes walking distance fr...  ...                f   \n",
       "1  It's near the school of medicine so the street...  ...                f   \n",
       "\n",
       "  is_business_travel_ready          cancellation_policy  \\\n",
       "0                        f  strict_14_with_grace_period   \n",
       "1                        f                     moderate   \n",
       "\n",
       "  require_guest_profile_picture require_guest_phone_verification  \\\n",
       "0                             f                                f   \n",
       "1                             f                                f   \n",
       "\n",
       "   calculated_host_listings_count  \\\n",
       "0                               1   \n",
       "1                               1   \n",
       "\n",
       "   calculated_host_listings_count_entire_homes  \\\n",
       "0                                            1   \n",
       "1                                            0   \n",
       "\n",
       "  calculated_host_listings_count_private_rooms  \\\n",
       "0                                            0   \n",
       "1                                            1   \n",
       "\n",
       "   calculated_host_listings_count_shared_rooms  reviews_per_month  \n",
       "0                                            0               0.27  \n",
       "1                                            0               0.16  \n",
       "\n",
       "[2 rows x 106 columns]"
      ]
     },
     "execution_count": 35,
     "metadata": {},
     "output_type": "execute_result"
    }
   ],
   "source": [
    "listings.head(2)"
   ]
  },
  {
   "cell_type": "code",
   "execution_count": 37,
   "metadata": {},
   "outputs": [
    {
     "data": {
      "text/html": [
       "<div>\n",
       "<style scoped>\n",
       "    .dataframe tbody tr th:only-of-type {\n",
       "        vertical-align: middle;\n",
       "    }\n",
       "\n",
       "    .dataframe tbody tr th {\n",
       "        vertical-align: top;\n",
       "    }\n",
       "\n",
       "    .dataframe thead th {\n",
       "        text-align: right;\n",
       "    }\n",
       "</style>\n",
       "<table border=\"1\" class=\"dataframe\">\n",
       "  <thead>\n",
       "    <tr style=\"text-align: right;\">\n",
       "      <th></th>\n",
       "      <th>listing_id</th>\n",
       "      <th>id</th>\n",
       "      <th>date</th>\n",
       "      <th>reviewer_id</th>\n",
       "      <th>reviewer_name</th>\n",
       "      <th>comments</th>\n",
       "    </tr>\n",
       "  </thead>\n",
       "  <tbody>\n",
       "    <tr>\n",
       "      <th>0</th>\n",
       "      <td>11508</td>\n",
       "      <td>1615861</td>\n",
       "      <td>2012-07-02</td>\n",
       "      <td>877808</td>\n",
       "      <td>Charlie</td>\n",
       "      <td>Amazing place!\\r\\n\\r\\nLocation: short walk to ...</td>\n",
       "    </tr>\n",
       "    <tr>\n",
       "      <th>1</th>\n",
       "      <td>11508</td>\n",
       "      <td>3157005</td>\n",
       "      <td>2012-12-26</td>\n",
       "      <td>656077</td>\n",
       "      <td>Shaily</td>\n",
       "      <td>Really enjoyed Candela's recommendations and q...</td>\n",
       "    </tr>\n",
       "    <tr>\n",
       "      <th>2</th>\n",
       "      <td>11508</td>\n",
       "      <td>3281011</td>\n",
       "      <td>2013-01-05</td>\n",
       "      <td>2835998</td>\n",
       "      <td>Michiel</td>\n",
       "      <td>Candela and her colleague were very attentive ...</td>\n",
       "    </tr>\n",
       "  </tbody>\n",
       "</table>\n",
       "</div>"
      ],
      "text/plain": [
       "   listing_id       id        date  reviewer_id reviewer_name  \\\n",
       "0       11508  1615861  2012-07-02       877808       Charlie   \n",
       "1       11508  3157005  2012-12-26       656077        Shaily   \n",
       "2       11508  3281011  2013-01-05      2835998       Michiel   \n",
       "\n",
       "                                            comments  \n",
       "0  Amazing place!\\r\\n\\r\\nLocation: short walk to ...  \n",
       "1  Really enjoyed Candela's recommendations and q...  \n",
       "2  Candela and her colleague were very attentive ...  "
      ]
     },
     "execution_count": 37,
     "metadata": {},
     "output_type": "execute_result"
    }
   ],
   "source": [
    "reviews.head(3)"
   ]
  },
  {
   "cell_type": "markdown",
   "metadata": {},
   "source": [
    "-----------------------------------------------------------------------------------------------------------------------------------------------------------"
   ]
  },
  {
   "cell_type": "markdown",
   "metadata": {},
   "source": [
    "#### análisamos si contiene nulos"
   ]
  },
  {
   "cell_type": "code",
   "execution_count": 38,
   "metadata": {},
   "outputs": [],
   "source": [
    "def plot_null_values(df):\n",
    "    # Contar valores nulos y no nulos por columna\n",
    "    null_counts = df.isnull().sum()\n",
    "    non_null_counts = df.notnull().sum()\n",
    "\n",
    "    # Calcular los porcentajes\n",
    "    total_counts = null_counts + non_null_counts\n",
    "    null_percentage = (null_counts / total_counts) * 100\n",
    "    non_null_percentage = (non_null_counts / total_counts) * 100\n",
    "\n",
    "    # Configurar el tamaño del gráfico\n",
    "    fig, ax = plt.subplots(figsize=(6, 4))\n",
    "\n",
    "    # Crear las barras apiladas\n",
    "    bars1 = ax.barh(df.columns, null_percentage, color='lightcoral', edgecolor='grey', label='Nulos')\n",
    "    bars2 = ax.barh(df.columns, non_null_percentage, left=null_percentage, color='lightgreen', edgecolor='grey', label='No Nulos')\n",
    "\n",
    "    # Añadir etiquetas y título\n",
    "    ax.set_xlabel('Porcentaje')\n",
    "    ax.set_title(f'Porcentaje de valores nulos y no nulos por columna')\n",
    "    ax.legend()\n",
    "\n",
    "    # Mostrar el gráfico\n",
    "    plt.show()"
   ]
  },
  {
   "cell_type": "code",
   "execution_count": 39,
   "metadata": {},
   "outputs": [
    {
     "data": {
      "image/png": "[encoded data removed]",
      "text/plain": [
       "<Figure size 600x400 with 1 Axes>"
      ]
     },
     "metadata": {},
     "output_type": "display_data"
    },
    {
     "data": {
      "image/png": "[encoded data removed]",
      "text/plain": [
       "<Figure size 600x400 with 1 Axes>"
      ]
     },
     "metadata": {},
     "output_type": "display_data"
    },
    {
     "data": {
      "image/png": "[encoded data removed]",
      "text/plain": [
       "<Figure size 600x400 with 1 Axes>"
      ]
     },
     "metadata": {},
     "output_type": "display_data"
    }
   ],
   "source": [
    "# Usamos la funcion para mostrar los graficos\n",
    "plot_null_values(calendar)\n",
    "plot_null_values(listings)\n",
    "plot_null_values(reviews)"
   ]
  },
  {
   "cell_type": "markdown",
   "metadata": {},
   "source": [
    "Podemos visualizar que dos de los 3 df no contienen valores nulos pero eso no quiere decir que los datos sean correctos. \n",
    "Aparte podemos ver que el df de listings contiene una gran consentracion de columnas las cuales no utilizaremos todas"
   ]
  },
  {
   "cell_type": "markdown",
   "metadata": {},
   "source": [
    "--------------------------------------------------------------------------"
   ]
  },
  {
   "cell_type": "markdown",
   "metadata": {},
   "source": [
    "#### Empezamos con un ETL con el DF llamado \"Calendar\""
   ]
  },
  {
   "cell_type": "code",
   "execution_count": 41,
   "metadata": {},
   "outputs": [
    {
     "data": {
      "text/html": [
       "<div>\n",
       "<style scoped>\n",
       "    .dataframe tbody tr th:only-of-type {\n",
       "        vertical-align: middle;\n",
       "    }\n",
       "\n",
       "    .dataframe tbody tr th {\n",
       "        vertical-align: top;\n",
       "    }\n",
       "\n",
       "    .dataframe thead th {\n",
       "        text-align: right;\n",
       "    }\n",
       "</style>\n",
       "<table border=\"1\" class=\"dataframe\">\n",
       "  <thead>\n",
       "    <tr style=\"text-align: right;\">\n",
       "      <th></th>\n",
       "      <th>listing_id</th>\n",
       "      <th>date</th>\n",
       "      <th>available</th>\n",
       "      <th>price</th>\n",
       "      <th>adjusted_price</th>\n",
       "      <th>minimum_nights</th>\n",
       "      <th>maximum_nights</th>\n",
       "    </tr>\n",
       "  </thead>\n",
       "  <tbody>\n",
       "    <tr>\n",
       "      <th>0</th>\n",
       "      <td>50778</td>\n",
       "      <td>2020-04-26</td>\n",
       "      <td>f</td>\n",
       "      <td>$2,655.00</td>\n",
       "      <td>$2,655.00</td>\n",
       "      <td>5.0</td>\n",
       "      <td>1125.0</td>\n",
       "    </tr>\n",
       "    <tr>\n",
       "      <th>1</th>\n",
       "      <td>133654</td>\n",
       "      <td>2020-04-27</td>\n",
       "      <td>t</td>\n",
       "      <td>$1,150.00</td>\n",
       "      <td>$1,150.00</td>\n",
       "      <td>4.0</td>\n",
       "      <td>1125.0</td>\n",
       "    </tr>\n",
       "    <tr>\n",
       "      <th>2</th>\n",
       "      <td>133654</td>\n",
       "      <td>2020-04-28</td>\n",
       "      <td>t</td>\n",
       "      <td>$1,150.00</td>\n",
       "      <td>$1,150.00</td>\n",
       "      <td>4.0</td>\n",
       "      <td>1125.0</td>\n",
       "    </tr>\n",
       "  </tbody>\n",
       "</table>\n",
       "</div>"
      ],
      "text/plain": [
       "   listing_id        date available      price adjusted_price  minimum_nights  \\\n",
       "0       50778  2020-04-26         f  $2,655.00      $2,655.00             5.0   \n",
       "1      133654  2020-04-27         t  $1,150.00      $1,150.00             4.0   \n",
       "2      133654  2020-04-28         t  $1,150.00      $1,150.00             4.0   \n",
       "\n",
       "   maximum_nights  \n",
       "0          1125.0  \n",
       "1          1125.0  \n",
       "2          1125.0  "
      ]
     },
     "execution_count": 41,
     "metadata": {},
     "output_type": "execute_result"
    }
   ],
   "source": [
    "calendar.head(3)"
   ]
  },
  {
   "cell_type": "markdown",
   "metadata": {},
   "source": [
    "Vamos a ver que contienen las columnas ('minimum_nights' y 'maximum_nights') para ver si seran utilizadas "
   ]
  },
  {
   "cell_type": "code",
   "execution_count": 42,
   "metadata": {},
   "outputs": [
    {
     "data": {
      "text/plain": [
       "array([1.1250e+03, 4.0000e+00, 9.0000e+01, 1.8000e+02, 7.3000e+02,\n",
       "       3.6000e+02, 3.6500e+02, 2.0000e+02, 1.5000e+01, 1.1240e+03,\n",
       "       1.2000e+02, 9.9999e+04, 2.0000e+01, 3.0000e+01, 6.2000e+01,\n",
       "       3.0000e+02, 6.0000e+01, 1.0950e+03, 1.8250e+03, 1.5000e+02,\n",
       "       2.8000e+01, 7.0000e+00, 7.6000e+02, 2.5000e+01, 9.0000e+03,\n",
       "       9.9900e+02,        nan, 6.0000e+00, 8.0000e+02, 7.2000e+02,\n",
       "       1.7900e+02, 1.5000e+03, 6.0000e+02, 1.2000e+01, 1.8200e+02,\n",
       "       1.4000e+01, 1.2500e+02, 1.0000e+01, 5.0000e+01, 1.0000e+03,\n",
       "       9.4000e+01, 1.0000e+04, 5.0000e+00, 3.3000e+02, 7.0000e+01,\n",
       "       3.2000e+02, 3.0000e+00, 4.5000e+01, 3.5000e+01, 2.9000e+01,\n",
       "       4.0000e+01, 1.1200e+03, 1.1000e+03, 1.0000e+02, 3.1000e+01,\n",
       "       3.4000e+02, 8.0000e+00, 2.1000e+02, 1.8100e+02, 3.5000e+02,\n",
       "       2.7000e+01, 2.6000e+01, 2.4000e+01, 2.3000e+01, 2.2000e+01,\n",
       "       2.1000e+01, 1.9000e+01, 1.8000e+01, 1.7000e+01, 1.6000e+01,\n",
       "       1.3000e+01, 1.1000e+01, 9.0000e+00, 2.0000e+00, 1.0000e+00,\n",
       "       2.2400e+02, 9.2000e+01, 4.0000e+02, 1.9000e+02, 8.0000e+01,\n",
       "       8.9000e+01, 3.6600e+02, 7.0000e+02, 9.5000e+01, 2.8000e+02,\n",
       "       1.0010e+03, 1.1230e+03, 2.5000e+02, 9.0000e+02, 3.8500e+02,\n",
       "       9.3000e+01, 4.2500e+02, 1.8500e+02, 1.2200e+02, 7.5000e+02,\n",
       "       1.6000e+02, 9.9000e+01, 1.0060e+04, 8.5000e+01, 3.5200e+02,\n",
       "       5.5000e+02, 3.4300e+02, 7.6500e+02, 7.4000e+02, 7.5200e+02,\n",
       "       3.2000e+01, 1.7500e+02, 7.5000e+01, 3.6400e+02, 3.6000e+01,\n",
       "       4.4000e+01, 2.2000e+02, 5.0000e+02, 3.7000e+02, 6.5000e+01,\n",
       "       1.1500e+03, 3.7000e+01, 2.4000e+02, 3.6100e+02, 1.1000e+02,\n",
       "       1.7400e+02, 2.7000e+02, 6.3000e+01, 1.1600e+02, 1.0800e+03,\n",
       "       3.9000e+02, 1.0100e+02, 4.6000e+01, 5.9000e+01, 5.1000e+01,\n",
       "       3.7500e+02, 3.3000e+01, 1.8600e+02, 5.8000e+01, 5.1800e+02,\n",
       "       1.5100e+02, 3.4400e+02, 9.9400e+02, 1.4000e+02, 3.0000e+04,\n",
       "       3.4000e+01, 1.8800e+02, 1.1220e+03, 3.0200e+02, 1.2000e+03,\n",
       "       4.0000e+03, 4.2000e+01, 1.6400e+02, 9.1000e+01, 6.5000e+02,\n",
       "       1.8400e+02, 6.7000e+01, 1.9200e+02, 3.5600e+02, 4.9000e+01,\n",
       "       1.3000e+02, 9.8000e+01, 8.8000e+01, 1.7800e+02, 1.1180e+03,\n",
       "       1.1500e+02, 6.1000e+01, 6.4000e+01, 1.5300e+02, 3.0500e+02,\n",
       "       3.9000e+01, 1.1200e+02, 3.5400e+02, 1.1190e+03, 3.6700e+02,\n",
       "       1.1110e+03, 2.0100e+02, 1.2400e+02, 5.6000e+01, 7.3000e+01,\n",
       "       1.7000e+02, 6.5200e+02, 3.9900e+02, 1.1100e+02, 3.4200e+02,\n",
       "       2.6300e+02, 1.0500e+02, 3.2600e+02, 5.2000e+01, 3.6900e+02,\n",
       "       2.7100e+02, 8.1000e+01, 3.8000e+01, 5.5000e+01, 1.1080e+03,\n",
       "       6.3800e+02, 8.6000e+01, 3.3500e+02, 8.7000e+01, 1.0200e+03,\n",
       "       1.0890e+03, 2.0300e+02, 7.9000e+01, 1.1100e+03, 1.0200e+02,\n",
       "       3.6800e+02, 6.9000e+01, 8.3000e+01, 1.1700e+02, 1.0660e+03,\n",
       "       1.9300e+02, 7.8000e+01, 2.0700e+02, 3.3700e+02, 1.1140e+03])"
      ]
     },
     "execution_count": 42,
     "metadata": {},
     "output_type": "execute_result"
    }
   ],
   "source": [
    "calendar['maximum_nights'].unique()"
   ]
  },
  {
   "cell_type": "code",
   "execution_count": 43,
   "metadata": {},
   "outputs": [
    {
     "data": {
      "text/plain": [
       "array([5.000e+00, 4.000e+00, 2.000e+00, 1.000e+00, 3.000e+00, 1.000e+01,\n",
       "       7.000e+00, 2.900e+01, 1.400e+01, 6.000e+00, 1.500e+01, 3.000e+01,\n",
       "       2.000e+01, 2.500e+01, 1.200e+01, 2.800e+01, 9.000e+01, 1.800e+02,\n",
       "       6.000e+01, 2.100e+01,       nan, 1.300e+01, 5.000e+01, 2.200e+01,\n",
       "       1.124e+03, 9.000e+00, 4.000e+01, 3.000e+02, 8.000e+00, 1.300e+02,\n",
       "       1.200e+02, 3.600e+02, 1.900e+01, 2.400e+01, 7.900e+01, 3.650e+02,\n",
       "       1.100e+01, 2.600e+01, 8.900e+01, 1.700e+01, 1.600e+01, 9.000e+02,\n",
       "       3.100e+01, 9.300e+01, 1.500e+02, 3.900e+01, 1.000e+02, 1.600e+02,\n",
       "       4.500e+01, 1.125e+03, 2.300e+01, 6.500e+01, 5.500e+01, 8.000e+01,\n",
       "       6.100e+01, 1.800e+01, 1.830e+02, 5.000e+02, 2.000e+02, 2.700e+01,\n",
       "       2.100e+02, 3.590e+02, 1.100e+03, 9.100e+01, 5.700e+01, 8.500e+01,\n",
       "       5.800e+01, 7.300e+02, 1.530e+02, 1.000e+03, 8.600e+01])"
      ]
     },
     "execution_count": 43,
     "metadata": {},
     "output_type": "execute_result"
    }
   ],
   "source": [
    "calendar['minimum_nights'].unique()"
   ]
  },
  {
   "cell_type": "markdown",
   "metadata": {},
   "source": [
    "No van a ser utilizadas entonces las descartamos y tambien sacaremos la columna 'adjusted_price' ya que se considera innecesaria para este analisis"
   ]
  },
  {
   "cell_type": "code",
   "execution_count": 44,
   "metadata": {},
   "outputs": [],
   "source": [
    "calendar.drop(['minimum_nights', 'maximum_nights', 'adjusted_price'], axis=1 , inplace=True)"
   ]
  },
  {
   "cell_type": "code",
   "execution_count": 45,
   "metadata": {},
   "outputs": [
    {
     "data": {
      "text/html": [
       "<div>\n",
       "<style scoped>\n",
       "    .dataframe tbody tr th:only-of-type {\n",
       "        vertical-align: middle;\n",
       "    }\n",
       "\n",
       "    .dataframe tbody tr th {\n",
       "        vertical-align: top;\n",
       "    }\n",
       "\n",
       "    .dataframe thead th {\n",
       "        text-align: right;\n",
       "    }\n",
       "</style>\n",
       "<table border=\"1\" class=\"dataframe\">\n",
       "  <thead>\n",
       "    <tr style=\"text-align: right;\">\n",
       "      <th></th>\n",
       "      <th>listing_id</th>\n",
       "      <th>date</th>\n",
       "      <th>available</th>\n",
       "      <th>price</th>\n",
       "    </tr>\n",
       "  </thead>\n",
       "  <tbody>\n",
       "    <tr>\n",
       "      <th>0</th>\n",
       "      <td>50778</td>\n",
       "      <td>2020-04-26</td>\n",
       "      <td>f</td>\n",
       "      <td>$2,655.00</td>\n",
       "    </tr>\n",
       "    <tr>\n",
       "      <th>1</th>\n",
       "      <td>133654</td>\n",
       "      <td>2020-04-27</td>\n",
       "      <td>t</td>\n",
       "      <td>$1,150.00</td>\n",
       "    </tr>\n",
       "    <tr>\n",
       "      <th>2</th>\n",
       "      <td>133654</td>\n",
       "      <td>2020-04-28</td>\n",
       "      <td>t</td>\n",
       "      <td>$1,150.00</td>\n",
       "    </tr>\n",
       "    <tr>\n",
       "      <th>3</th>\n",
       "      <td>133654</td>\n",
       "      <td>2020-04-29</td>\n",
       "      <td>t</td>\n",
       "      <td>$1,150.00</td>\n",
       "    </tr>\n",
       "    <tr>\n",
       "      <th>4</th>\n",
       "      <td>133654</td>\n",
       "      <td>2020-04-30</td>\n",
       "      <td>t</td>\n",
       "      <td>$1,150.00</td>\n",
       "    </tr>\n",
       "  </tbody>\n",
       "</table>\n",
       "</div>"
      ],
      "text/plain": [
       "   listing_id        date available      price\n",
       "0       50778  2020-04-26         f  $2,655.00\n",
       "1      133654  2020-04-27         t  $1,150.00\n",
       "2      133654  2020-04-28         t  $1,150.00\n",
       "3      133654  2020-04-29         t  $1,150.00\n",
       "4      133654  2020-04-30         t  $1,150.00"
      ]
     },
     "execution_count": 45,
     "metadata": {},
     "output_type": "execute_result"
    }
   ],
   "source": [
    "calendar.head()"
   ]
  },
  {
   "cell_type": "markdown",
   "metadata": {},
   "source": [
    "Ahora cambiamos los valores de la columna 'available' para que en vez de decir t o f, diga \"disponible\" o \"no disponible\""
   ]
  },
  {
   "cell_type": "code",
   "execution_count": 46,
   "metadata": {},
   "outputs": [
    {
     "data": {
      "text/html": [
       "<div>\n",
       "<style scoped>\n",
       "    .dataframe tbody tr th:only-of-type {\n",
       "        vertical-align: middle;\n",
       "    }\n",
       "\n",
       "    .dataframe tbody tr th {\n",
       "        vertical-align: top;\n",
       "    }\n",
       "\n",
       "    .dataframe thead th {\n",
       "        text-align: right;\n",
       "    }\n",
       "</style>\n",
       "<table border=\"1\" class=\"dataframe\">\n",
       "  <thead>\n",
       "    <tr style=\"text-align: right;\">\n",
       "      <th></th>\n",
       "      <th>listing_id</th>\n",
       "      <th>date</th>\n",
       "      <th>available</th>\n",
       "      <th>price</th>\n",
       "    </tr>\n",
       "  </thead>\n",
       "  <tbody>\n",
       "    <tr>\n",
       "      <th>0</th>\n",
       "      <td>50778</td>\n",
       "      <td>2020-04-26</td>\n",
       "      <td>no disponible</td>\n",
       "      <td>$2,655.00</td>\n",
       "    </tr>\n",
       "    <tr>\n",
       "      <th>1</th>\n",
       "      <td>133654</td>\n",
       "      <td>2020-04-27</td>\n",
       "      <td>disponible</td>\n",
       "      <td>$1,150.00</td>\n",
       "    </tr>\n",
       "  </tbody>\n",
       "</table>\n",
       "</div>"
      ],
      "text/plain": [
       "   listing_id        date      available      price\n",
       "0       50778  2020-04-26  no disponible  $2,655.00\n",
       "1      133654  2020-04-27     disponible  $1,150.00"
      ]
     },
     "execution_count": 46,
     "metadata": {},
     "output_type": "execute_result"
    }
   ],
   "source": [
    "calendar['available'] = calendar['available'].replace({'t': 'disponible', 'f': 'no disponible'})\n",
    "calendar.head(2)"
   ]
  },
  {
   "cell_type": "code",
   "execution_count": 47,
   "metadata": {},
   "outputs": [
    {
     "name": "stdout",
     "output_type": "stream",
     "text": [
      "<class 'pandas.core.frame.DataFrame'>\n",
      "RangeIndex: 8661286 entries, 0 to 8661285\n",
      "Data columns (total 4 columns):\n",
      " #   Column      Dtype \n",
      "---  ------      ----- \n",
      " 0   listing_id  int64 \n",
      " 1   date        object\n",
      " 2   available   object\n",
      " 3   price       object\n",
      "dtypes: int64(1), object(3)\n",
      "memory usage: 264.3+ MB\n"
     ]
    }
   ],
   "source": [
    "calendar.info()"
   ]
  },
  {
   "cell_type": "code",
   "execution_count": 48,
   "metadata": {},
   "outputs": [],
   "source": [
    "# Cambiamos el formato de la columna \"date\" para que quede como datatime y le cambiamos el formato\n",
    "calendar['date'] = pd.to_datetime(calendar['date'])\n",
    "calendar['date'] = calendar['date'].dt.strftime('%d-%m-%Y')"
   ]
  },
  {
   "cell_type": "code",
   "execution_count": 52,
   "metadata": {},
   "outputs": [
    {
     "data": {
      "text/html": [
       "<div>\n",
       "<style scoped>\n",
       "    .dataframe tbody tr th:only-of-type {\n",
       "        vertical-align: middle;\n",
       "    }\n",
       "\n",
       "    .dataframe tbody tr th {\n",
       "        vertical-align: top;\n",
       "    }\n",
       "\n",
       "    .dataframe thead th {\n",
       "        text-align: right;\n",
       "    }\n",
       "</style>\n",
       "<table border=\"1\" class=\"dataframe\">\n",
       "  <thead>\n",
       "    <tr style=\"text-align: right;\">\n",
       "      <th></th>\n",
       "      <th>listing_id</th>\n",
       "      <th>date</th>\n",
       "      <th>available</th>\n",
       "      <th>price</th>\n",
       "    </tr>\n",
       "  </thead>\n",
       "  <tbody>\n",
       "    <tr>\n",
       "      <th>0</th>\n",
       "      <td>50778</td>\n",
       "      <td>26-04-2020</td>\n",
       "      <td>no disponible</td>\n",
       "      <td>$2,655.00</td>\n",
       "    </tr>\n",
       "    <tr>\n",
       "      <th>1</th>\n",
       "      <td>133654</td>\n",
       "      <td>27-04-2020</td>\n",
       "      <td>disponible</td>\n",
       "      <td>$1,150.00</td>\n",
       "    </tr>\n",
       "    <tr>\n",
       "      <th>2</th>\n",
       "      <td>133654</td>\n",
       "      <td>28-04-2020</td>\n",
       "      <td>disponible</td>\n",
       "      <td>$1,150.00</td>\n",
       "    </tr>\n",
       "    <tr>\n",
       "      <th>3</th>\n",
       "      <td>133654</td>\n",
       "      <td>29-04-2020</td>\n",
       "      <td>disponible</td>\n",
       "      <td>$1,150.00</td>\n",
       "    </tr>\n",
       "    <tr>\n",
       "      <th>4</th>\n",
       "      <td>133654</td>\n",
       "      <td>30-04-2020</td>\n",
       "      <td>disponible</td>\n",
       "      <td>$1,150.00</td>\n",
       "    </tr>\n",
       "  </tbody>\n",
       "</table>\n",
       "</div>"
      ],
      "text/plain": [
       "   listing_id        date      available      price\n",
       "0       50778  26-04-2020  no disponible  $2,655.00\n",
       "1      133654  27-04-2020     disponible  $1,150.00\n",
       "2      133654  28-04-2020     disponible  $1,150.00\n",
       "3      133654  29-04-2020     disponible  $1,150.00\n",
       "4      133654  30-04-2020     disponible  $1,150.00"
      ]
     },
     "execution_count": 52,
     "metadata": {},
     "output_type": "execute_result"
    }
   ],
   "source": [
    "calendar.head()"
   ]
  },
  {
   "cell_type": "code",
   "execution_count": 55,
   "metadata": {},
   "outputs": [
    {
     "name": "stdout",
     "output_type": "stream",
     "text": [
      "Hay 0 valores nulos en listing_id\n",
      "Hay 0 valores nulos en date\n",
      "Hay 0 valores nulos en available\n",
      "Hay 0 valores nulos en price\n"
     ]
    }
   ],
   "source": [
    "# Ahora identifico la cantidad de valores nulos que qudaron en el dataset\n",
    "for column in calendar.columns:\n",
    "    print(f'Hay {calendar[column].isna().sum()} valores nulos en {column}')"
   ]
  },
  {
   "cell_type": "code",
   "execution_count": 50,
   "metadata": {},
   "outputs": [],
   "source": [
    "# Generamos un nuevo dataset con los cambios que hicimos \n",
    "calendar.to_csv('./Datasets/Calendar_nvo.csv', index=False)"
   ]
  },
  {
   "cell_type": "markdown",
   "metadata": {},
   "source": [
    "Con esto finalizamos el proceso de ETL "
   ]
  },
  {
   "cell_type": "markdown",
   "metadata": {},
   "source": [
    "------------------------------------"
   ]
  },
  {
   "cell_type": "markdown",
   "metadata": {},
   "source": [
    "#### Empezamos con un ETL con el DF llamado \"Reviews\""
   ]
  },
  {
   "cell_type": "code",
   "execution_count": 51,
   "metadata": {},
   "outputs": [
    {
     "data": {
      "text/html": [
       "<div>\n",
       "<style scoped>\n",
       "    .dataframe tbody tr th:only-of-type {\n",
       "        vertical-align: middle;\n",
       "    }\n",
       "\n",
       "    .dataframe tbody tr th {\n",
       "        vertical-align: top;\n",
       "    }\n",
       "\n",
       "    .dataframe thead th {\n",
       "        text-align: right;\n",
       "    }\n",
       "</style>\n",
       "<table border=\"1\" class=\"dataframe\">\n",
       "  <thead>\n",
       "    <tr style=\"text-align: right;\">\n",
       "      <th></th>\n",
       "      <th>listing_id</th>\n",
       "      <th>id</th>\n",
       "      <th>date</th>\n",
       "      <th>reviewer_id</th>\n",
       "      <th>reviewer_name</th>\n",
       "      <th>comments</th>\n",
       "    </tr>\n",
       "  </thead>\n",
       "  <tbody>\n",
       "    <tr>\n",
       "      <th>0</th>\n",
       "      <td>11508</td>\n",
       "      <td>1615861</td>\n",
       "      <td>2012-07-02</td>\n",
       "      <td>877808</td>\n",
       "      <td>Charlie</td>\n",
       "      <td>Amazing place!\\r\\n\\r\\nLocation: short walk to ...</td>\n",
       "    </tr>\n",
       "    <tr>\n",
       "      <th>1</th>\n",
       "      <td>11508</td>\n",
       "      <td>3157005</td>\n",
       "      <td>2012-12-26</td>\n",
       "      <td>656077</td>\n",
       "      <td>Shaily</td>\n",
       "      <td>Really enjoyed Candela's recommendations and q...</td>\n",
       "    </tr>\n",
       "    <tr>\n",
       "      <th>2</th>\n",
       "      <td>11508</td>\n",
       "      <td>3281011</td>\n",
       "      <td>2013-01-05</td>\n",
       "      <td>2835998</td>\n",
       "      <td>Michiel</td>\n",
       "      <td>Candela and her colleague were very attentive ...</td>\n",
       "    </tr>\n",
       "  </tbody>\n",
       "</table>\n",
       "</div>"
      ],
      "text/plain": [
       "   listing_id       id        date  reviewer_id reviewer_name  \\\n",
       "0       11508  1615861  2012-07-02       877808       Charlie   \n",
       "1       11508  3157005  2012-12-26       656077        Shaily   \n",
       "2       11508  3281011  2013-01-05      2835998       Michiel   \n",
       "\n",
       "                                            comments  \n",
       "0  Amazing place!\\r\\n\\r\\nLocation: short walk to ...  \n",
       "1  Really enjoyed Candela's recommendations and q...  \n",
       "2  Candela and her colleague were very attentive ...  "
      ]
     },
     "execution_count": 51,
     "metadata": {},
     "output_type": "execute_result"
    }
   ],
   "source": [
    "reviews.head(3)"
   ]
  },
  {
   "cell_type": "code",
   "execution_count": 53,
   "metadata": {},
   "outputs": [
    {
     "data": {
      "text/html": [
       "<div>\n",
       "<style scoped>\n",
       "    .dataframe tbody tr th:only-of-type {\n",
       "        vertical-align: middle;\n",
       "    }\n",
       "\n",
       "    .dataframe tbody tr th {\n",
       "        vertical-align: top;\n",
       "    }\n",
       "\n",
       "    .dataframe thead th {\n",
       "        text-align: right;\n",
       "    }\n",
       "</style>\n",
       "<table border=\"1\" class=\"dataframe\">\n",
       "  <thead>\n",
       "    <tr style=\"text-align: right;\">\n",
       "      <th></th>\n",
       "      <th>listing_id</th>\n",
       "      <th>id</th>\n",
       "      <th>date</th>\n",
       "      <th>reviewer_id</th>\n",
       "      <th>reviewer_name</th>\n",
       "      <th>comments</th>\n",
       "    </tr>\n",
       "  </thead>\n",
       "  <tbody>\n",
       "    <tr>\n",
       "      <th>0</th>\n",
       "      <td>11508</td>\n",
       "      <td>1615861</td>\n",
       "      <td>02-07-2012</td>\n",
       "      <td>877808</td>\n",
       "      <td>Charlie</td>\n",
       "      <td>Amazing place!\\r\\n\\r\\nLocation: short walk to ...</td>\n",
       "    </tr>\n",
       "    <tr>\n",
       "      <th>1</th>\n",
       "      <td>11508</td>\n",
       "      <td>3157005</td>\n",
       "      <td>26-12-2012</td>\n",
       "      <td>656077</td>\n",
       "      <td>Shaily</td>\n",
       "      <td>Really enjoyed Candela's recommendations and q...</td>\n",
       "    </tr>\n",
       "    <tr>\n",
       "      <th>2</th>\n",
       "      <td>11508</td>\n",
       "      <td>3281011</td>\n",
       "      <td>05-01-2013</td>\n",
       "      <td>2835998</td>\n",
       "      <td>Michiel</td>\n",
       "      <td>Candela and her colleague were very attentive ...</td>\n",
       "    </tr>\n",
       "  </tbody>\n",
       "</table>\n",
       "</div>"
      ],
      "text/plain": [
       "   listing_id       id        date  reviewer_id reviewer_name  \\\n",
       "0       11508  1615861  02-07-2012       877808       Charlie   \n",
       "1       11508  3157005  26-12-2012       656077        Shaily   \n",
       "2       11508  3281011  05-01-2013      2835998       Michiel   \n",
       "\n",
       "                                            comments  \n",
       "0  Amazing place!\\r\\n\\r\\nLocation: short walk to ...  \n",
       "1  Really enjoyed Candela's recommendations and q...  \n",
       "2  Candela and her colleague were very attentive ...  "
      ]
     },
     "execution_count": 53,
     "metadata": {},
     "output_type": "execute_result"
    }
   ],
   "source": [
    "# Cambiamos el formato de la columna \"date\" para que quede como datatime y le cambiamos el formato\n",
    "reviews['date'] = pd.to_datetime(reviews['date'])\n",
    "reviews['date'] = reviews['date'].dt.strftime('%d-%m-%Y')\n",
    "reviews.head(3)"
   ]
  },
  {
   "cell_type": "code",
   "execution_count": 54,
   "metadata": {},
   "outputs": [
    {
     "name": "stdout",
     "output_type": "stream",
     "text": [
      "Hay 0 valores nulos en listing_id\n",
      "Hay 0 valores nulos en id\n",
      "Hay 0 valores nulos en date\n",
      "Hay 0 valores nulos en reviewer_id\n",
      "Hay 0 valores nulos en reviewer_name\n",
      "Hay 176 valores nulos en comments\n"
     ]
    }
   ],
   "source": [
    "# Ahora identifico la cantidad de valores nulos que qudaron en el dataset\n",
    "for column in reviews.columns:\n",
    "    print(f'Hay {reviews[column].isna().sum()} valores nulos en {column}')"
   ]
  },
  {
   "cell_type": "markdown",
   "metadata": {},
   "source": [
    "Procedemos a eliminar los valores nulos"
   ]
  },
  {
   "cell_type": "code",
   "execution_count": 56,
   "metadata": {},
   "outputs": [],
   "source": [
    "reviews = reviews.dropna()"
   ]
  },
  {
   "cell_type": "code",
   "execution_count": 57,
   "metadata": {},
   "outputs": [
    {
     "name": "stdout",
     "output_type": "stream",
     "text": [
      "Hay 0 valores nulos en listing_id\n",
      "Hay 0 valores nulos en id\n",
      "Hay 0 valores nulos en date\n",
      "Hay 0 valores nulos en reviewer_id\n",
      "Hay 0 valores nulos en reviewer_name\n",
      "Hay 0 valores nulos en comments\n"
     ]
    }
   ],
   "source": [
    "# Ahora identifico la cantidad de valores nulos que qudaron en el dataset\n",
    "for column in reviews.columns:\n",
    "    print(f'Hay {reviews[column].isna().sum()} valores nulos en {column}')"
   ]
  },
  {
   "cell_type": "code",
   "execution_count": 65,
   "metadata": {},
   "outputs": [
    {
     "name": "stdout",
     "output_type": "stream",
     "text": [
      "<class 'pandas.core.frame.DataFrame'>\n",
      "Index: 386923 entries, 0 to 387098\n",
      "Data columns (total 6 columns):\n",
      " #   Column         Non-Null Count   Dtype \n",
      "---  ------         --------------   ----- \n",
      " 0   listing_id     386923 non-null  int64 \n",
      " 1   id             386923 non-null  int64 \n",
      " 2   date           386923 non-null  object\n",
      " 3   reviewer_id    386923 non-null  int64 \n",
      " 4   reviewer_name  386923 non-null  object\n",
      " 5   comments       386923 non-null  object\n",
      "dtypes: int64(3), object(3)\n",
      "memory usage: 20.7+ MB\n"
     ]
    }
   ],
   "source": [
    "reviews.info()"
   ]
  },
  {
   "cell_type": "code",
   "execution_count": 68,
   "metadata": {},
   "outputs": [],
   "source": [
    "reviews['comments'] = reviews['comments'].astype('str')"
   ]
  },
  {
   "cell_type": "code",
   "execution_count": 69,
   "metadata": {},
   "outputs": [],
   "source": [
    "def analisis_sentimiento(review: str) -> int:\n",
    "    analisis = TextBlob(review)\n",
    "    if analisis.sentiment.polarity < 0:\n",
    "        return 0  # Sentimiento negativo\n",
    "    elif analisis.sentiment.polarity == 0:\n",
    "        return 1  # Sentimiento neutro\n",
    "    else:\n",
    "        return 2  # Sentimiento positivo"
   ]
  },
  {
   "cell_type": "code",
   "execution_count": null,
   "metadata": {},
   "outputs": [],
   "source": [
    "reviews['Analisis_Sentimientos'] = reviews['comments'].apply(analisis_sentimiento)"
   ]
  },
  {
   "cell_type": "markdown",
   "metadata": {},
   "source": [
    "Ya con el analisis de sentimientos descartamos la columna comments ya que no sera utilizada en un futuro"
   ]
  },
  {
   "cell_type": "code",
   "execution_count": 76,
   "metadata": {},
   "outputs": [
    {
     "data": {
      "text/html": [
       "<div>\n",
       "<style scoped>\n",
       "    .dataframe tbody tr th:only-of-type {\n",
       "        vertical-align: middle;\n",
       "    }\n",
       "\n",
       "    .dataframe tbody tr th {\n",
       "        vertical-align: top;\n",
       "    }\n",
       "\n",
       "    .dataframe thead th {\n",
       "        text-align: right;\n",
       "    }\n",
       "</style>\n",
       "<table border=\"1\" class=\"dataframe\">\n",
       "  <thead>\n",
       "    <tr style=\"text-align: right;\">\n",
       "      <th></th>\n",
       "      <th>listing_id</th>\n",
       "      <th>id</th>\n",
       "      <th>date</th>\n",
       "      <th>reviewer_id</th>\n",
       "      <th>reviewer_name</th>\n",
       "      <th>Analisis_Sentimientos</th>\n",
       "    </tr>\n",
       "  </thead>\n",
       "  <tbody>\n",
       "    <tr>\n",
       "      <th>0</th>\n",
       "      <td>11508</td>\n",
       "      <td>1615861</td>\n",
       "      <td>02-07-2012</td>\n",
       "      <td>877808</td>\n",
       "      <td>Charlie</td>\n",
       "      <td>2</td>\n",
       "    </tr>\n",
       "    <tr>\n",
       "      <th>1</th>\n",
       "      <td>11508</td>\n",
       "      <td>3157005</td>\n",
       "      <td>26-12-2012</td>\n",
       "      <td>656077</td>\n",
       "      <td>Shaily</td>\n",
       "      <td>2</td>\n",
       "    </tr>\n",
       "    <tr>\n",
       "      <th>2</th>\n",
       "      <td>11508</td>\n",
       "      <td>3281011</td>\n",
       "      <td>05-01-2013</td>\n",
       "      <td>2835998</td>\n",
       "      <td>Michiel</td>\n",
       "      <td>2</td>\n",
       "    </tr>\n",
       "  </tbody>\n",
       "</table>\n",
       "</div>"
      ],
      "text/plain": [
       "   listing_id       id        date  reviewer_id reviewer_name  \\\n",
       "0       11508  1615861  02-07-2012       877808       Charlie   \n",
       "1       11508  3157005  26-12-2012       656077        Shaily   \n",
       "2       11508  3281011  05-01-2013      2835998       Michiel   \n",
       "\n",
       "   Analisis_Sentimientos  \n",
       "0                      2  \n",
       "1                      2  \n",
       "2                      2  "
      ]
     },
     "execution_count": 76,
     "metadata": {},
     "output_type": "execute_result"
    }
   ],
   "source": [
    "reviews.drop(['comments'], axis=1 , inplace=True)\n",
    "reviews.head(3)"
   ]
  },
  {
   "cell_type": "code",
   "execution_count": 77,
   "metadata": {},
   "outputs": [],
   "source": [
    "# Generamos un nuevo dataset con los cambios que hicimos \n",
    "reviews.to_csv('./Datasets/Reviews_nvo.csv', index=False)"
   ]
  },
  {
   "cell_type": "markdown",
   "metadata": {},
   "source": [
    "Con esto finalizamos el proceso de ETL "
   ]
  },
  {
   "cell_type": "markdown",
   "metadata": {},
   "source": [
    "----------------------------------------------"
   ]
  },
  {
   "cell_type": "markdown",
   "metadata": {},
   "source": [
    "#### Empezamos con un ETL con el DF llamado \"Listings\""
   ]
  },
  {
   "cell_type": "code",
   "execution_count": 121,
   "metadata": {},
   "outputs": [
    {
     "data": {
      "text/html": [
       "<div>\n",
       "<style scoped>\n",
       "    .dataframe tbody tr th:only-of-type {\n",
       "        vertical-align: middle;\n",
       "    }\n",
       "\n",
       "    .dataframe tbody tr th {\n",
       "        vertical-align: top;\n",
       "    }\n",
       "\n",
       "    .dataframe thead th {\n",
       "        text-align: right;\n",
       "    }\n",
       "</style>\n",
       "<table border=\"1\" class=\"dataframe\">\n",
       "  <thead>\n",
       "    <tr style=\"text-align: right;\">\n",
       "      <th></th>\n",
       "      <th>id</th>\n",
       "      <th>listing_url</th>\n",
       "      <th>scrape_id</th>\n",
       "      <th>last_scraped</th>\n",
       "      <th>name</th>\n",
       "      <th>summary</th>\n",
       "      <th>space</th>\n",
       "      <th>description</th>\n",
       "      <th>experiences_offered</th>\n",
       "      <th>neighborhood_overview</th>\n",
       "      <th>...</th>\n",
       "      <th>instant_bookable</th>\n",
       "      <th>is_business_travel_ready</th>\n",
       "      <th>cancellation_policy</th>\n",
       "      <th>require_guest_profile_picture</th>\n",
       "      <th>require_guest_phone_verification</th>\n",
       "      <th>calculated_host_listings_count</th>\n",
       "      <th>calculated_host_listings_count_entire_homes</th>\n",
       "      <th>calculated_host_listings_count_private_rooms</th>\n",
       "      <th>calculated_host_listings_count_shared_rooms</th>\n",
       "      <th>reviews_per_month</th>\n",
       "    </tr>\n",
       "  </thead>\n",
       "  <tbody>\n",
       "    <tr>\n",
       "      <th>0</th>\n",
       "      <td>11508</td>\n",
       "      <td>https://www.airbnb.com/rooms/11508</td>\n",
       "      <td>20200426042522</td>\n",
       "      <td>2020-04-26</td>\n",
       "      <td>Amazing Luxurious Apt-Palermo Soho</td>\n",
       "      <td>NaN</td>\n",
       "      <td>LUXURIOUS NEW APT: 1 BDRM- POOL/ GYM/ SPA/ 24-...</td>\n",
       "      <td>LUXURIOUS NEW APT: 1 BDRM- POOL/ GYM/ SPA/ 24-...</td>\n",
       "      <td>none</td>\n",
       "      <td>AREA: PALERMO SOHO Minutes walking distance fr...</td>\n",
       "      <td>...</td>\n",
       "      <td>f</td>\n",
       "      <td>f</td>\n",
       "      <td>strict_14_with_grace_period</td>\n",
       "      <td>f</td>\n",
       "      <td>f</td>\n",
       "      <td>1</td>\n",
       "      <td>1</td>\n",
       "      <td>0</td>\n",
       "      <td>0</td>\n",
       "      <td>0.27</td>\n",
       "    </tr>\n",
       "    <tr>\n",
       "      <th>1</th>\n",
       "      <td>12463</td>\n",
       "      <td>https://www.airbnb.com/rooms/12463</td>\n",
       "      <td>20200426042522</td>\n",
       "      <td>2020-04-26</td>\n",
       "      <td>Room in Recoleta - awesome location</td>\n",
       "      <td>My apartment is centrally located in Recoleta ...</td>\n",
       "      <td>This is a very comfortable pull-out sofa in th...</td>\n",
       "      <td>My apartment is centrally located in Recoleta ...</td>\n",
       "      <td>none</td>\n",
       "      <td>It's near the school of medicine so the street...</td>\n",
       "      <td>...</td>\n",
       "      <td>f</td>\n",
       "      <td>f</td>\n",
       "      <td>moderate</td>\n",
       "      <td>f</td>\n",
       "      <td>f</td>\n",
       "      <td>1</td>\n",
       "      <td>0</td>\n",
       "      <td>1</td>\n",
       "      <td>0</td>\n",
       "      <td>0.16</td>\n",
       "    </tr>\n",
       "  </tbody>\n",
       "</table>\n",
       "<p>2 rows × 106 columns</p>\n",
       "</div>"
      ],
      "text/plain": [
       "      id                         listing_url       scrape_id last_scraped  \\\n",
       "0  11508  https://www.airbnb.com/rooms/11508  20200426042522   2020-04-26   \n",
       "1  12463  https://www.airbnb.com/rooms/12463  20200426042522   2020-04-26   \n",
       "\n",
       "                                  name  \\\n",
       "0   Amazing Luxurious Apt-Palermo Soho   \n",
       "1  Room in Recoleta - awesome location   \n",
       "\n",
       "                                             summary  \\\n",
       "0                                                NaN   \n",
       "1  My apartment is centrally located in Recoleta ...   \n",
       "\n",
       "                                               space  \\\n",
       "0  LUXURIOUS NEW APT: 1 BDRM- POOL/ GYM/ SPA/ 24-...   \n",
       "1  This is a very comfortable pull-out sofa in th...   \n",
       "\n",
       "                                         description experiences_offered  \\\n",
       "0  LUXURIOUS NEW APT: 1 BDRM- POOL/ GYM/ SPA/ 24-...                none   \n",
       "1  My apartment is centrally located in Recoleta ...                none   \n",
       "\n",
       "                               neighborhood_overview  ... instant_bookable  \\\n",
       "0  AREA: PALERMO SOHO Minutes walking distance fr...  ...                f   \n",
       "1  It's near the school of medicine so the street...  ...                f   \n",
       "\n",
       "  is_business_travel_ready          cancellation_policy  \\\n",
       "0                        f  strict_14_with_grace_period   \n",
       "1                        f                     moderate   \n",
       "\n",
       "  require_guest_profile_picture require_guest_phone_verification  \\\n",
       "0                             f                                f   \n",
       "1                             f                                f   \n",
       "\n",
       "   calculated_host_listings_count  \\\n",
       "0                               1   \n",
       "1                               1   \n",
       "\n",
       "   calculated_host_listings_count_entire_homes  \\\n",
       "0                                            1   \n",
       "1                                            0   \n",
       "\n",
       "  calculated_host_listings_count_private_rooms  \\\n",
       "0                                            0   \n",
       "1                                            1   \n",
       "\n",
       "   calculated_host_listings_count_shared_rooms  reviews_per_month  \n",
       "0                                            0               0.27  \n",
       "1                                            0               0.16  \n",
       "\n",
       "[2 rows x 106 columns]"
      ]
     },
     "execution_count": 121,
     "metadata": {},
     "output_type": "execute_result"
    }
   ],
   "source": [
    "listings.head(2)"
   ]
  },
  {
   "cell_type": "markdown",
   "metadata": {},
   "source": [
    "Eliminamos las columnas que contienen mayor concentracion de nulos"
   ]
  },
  {
   "cell_type": "code",
   "execution_count": 122,
   "metadata": {},
   "outputs": [
    {
     "name": "stdout",
     "output_type": "stream",
     "text": [
      "Hay 0 valores nulos en id\n",
      "Hay 0 valores nulos en listing_url\n",
      "Hay 0 valores nulos en scrape_id\n",
      "Hay 0 valores nulos en last_scraped\n",
      "Hay 10 valores nulos en name\n",
      "Hay 1384 valores nulos en summary\n",
      "Hay 7194 valores nulos en space\n",
      "Hay 801 valores nulos en description\n",
      "Hay 0 valores nulos en experiences_offered\n",
      "Hay 7665 valores nulos en neighborhood_overview\n",
      "Hay 16007 valores nulos en notes\n",
      "Hay 9221 valores nulos en transit\n",
      "Hay 13525 valores nulos en access\n",
      "Hay 9824 valores nulos en interaction\n",
      "Hay 13078 valores nulos en house_rules\n",
      "Hay 23729 valores nulos en thumbnail_url\n",
      "Hay 23729 valores nulos en medium_url\n",
      "Hay 0 valores nulos en picture_url\n",
      "Hay 23729 valores nulos en xl_picture_url\n",
      "Hay 0 valores nulos en host_id\n",
      "Hay 0 valores nulos en host_url\n",
      "Hay 3 valores nulos en host_name\n",
      "Hay 3 valores nulos en host_since\n",
      "Hay 103 valores nulos en host_location\n",
      "Hay 10000 valores nulos en host_about\n",
      "Hay 6886 valores nulos en host_response_time\n",
      "Hay 6886 valores nulos en host_response_rate\n",
      "Hay 5199 valores nulos en host_acceptance_rate\n",
      "Hay 3 valores nulos en host_is_superhost\n",
      "Hay 3 valores nulos en host_thumbnail_url\n",
      "Hay 3 valores nulos en host_picture_url\n",
      "Hay 2859 valores nulos en host_neighbourhood\n",
      "Hay 3 valores nulos en host_listings_count\n",
      "Hay 3 valores nulos en host_total_listings_count\n",
      "Hay 3 valores nulos en host_verifications\n",
      "Hay 3 valores nulos en host_has_profile_pic\n",
      "Hay 3 valores nulos en host_identity_verified\n",
      "Hay 0 valores nulos en street\n",
      "Hay 0 valores nulos en neighbourhood\n",
      "Hay 0 valores nulos en neighbourhood_cleansed\n",
      "Hay 23729 valores nulos en neighbourhood_group_cleansed\n",
      "Hay 587 valores nulos en city\n",
      "Hay 183 valores nulos en state\n",
      "Hay 5187 valores nulos en zipcode\n",
      "Hay 21 valores nulos en market\n",
      "Hay 0 valores nulos en smart_location\n",
      "Hay 0 valores nulos en country_code\n",
      "Hay 0 valores nulos en country\n",
      "Hay 0 valores nulos en latitude\n",
      "Hay 0 valores nulos en longitude\n",
      "Hay 0 valores nulos en is_location_exact\n",
      "Hay 0 valores nulos en property_type\n",
      "Hay 0 valores nulos en room_type\n",
      "Hay 0 valores nulos en accommodates\n",
      "Hay 62 valores nulos en bathrooms\n",
      "Hay 43 valores nulos en bedrooms\n",
      "Hay 167 valores nulos en beds\n",
      "Hay 0 valores nulos en bed_type\n",
      "Hay 0 valores nulos en amenities\n",
      "Hay 23346 valores nulos en square_feet\n",
      "Hay 0 valores nulos en price\n",
      "Hay 21188 valores nulos en weekly_price\n",
      "Hay 21151 valores nulos en monthly_price\n",
      "Hay 8195 valores nulos en security_deposit\n",
      "Hay 6785 valores nulos en cleaning_fee\n",
      "Hay 0 valores nulos en guests_included\n",
      "Hay 0 valores nulos en extra_people\n",
      "Hay 0 valores nulos en minimum_nights\n",
      "Hay 0 valores nulos en maximum_nights\n",
      "Hay 0 valores nulos en minimum_minimum_nights\n",
      "Hay 0 valores nulos en maximum_minimum_nights\n",
      "Hay 0 valores nulos en minimum_maximum_nights\n",
      "Hay 0 valores nulos en maximum_maximum_nights\n",
      "Hay 0 valores nulos en minimum_nights_avg_ntm\n",
      "Hay 0 valores nulos en maximum_nights_avg_ntm\n",
      "Hay 0 valores nulos en calendar_updated\n",
      "Hay 0 valores nulos en has_availability\n",
      "Hay 0 valores nulos en availability_30\n",
      "Hay 0 valores nulos en availability_60\n",
      "Hay 0 valores nulos en availability_90\n",
      "Hay 0 valores nulos en availability_365\n",
      "Hay 0 valores nulos en calendar_last_scraped\n",
      "Hay 0 valores nulos en number_of_reviews\n",
      "Hay 0 valores nulos en number_of_reviews_ltm\n",
      "Hay 6507 valores nulos en first_review\n",
      "Hay 6507 valores nulos en last_review\n",
      "Hay 6890 valores nulos en review_scores_rating\n",
      "Hay 6907 valores nulos en review_scores_accuracy\n",
      "Hay 6907 valores nulos en review_scores_cleanliness\n",
      "Hay 6907 valores nulos en review_scores_checkin\n",
      "Hay 6908 valores nulos en review_scores_communication\n",
      "Hay 6907 valores nulos en review_scores_location\n",
      "Hay 6909 valores nulos en review_scores_value\n",
      "Hay 0 valores nulos en requires_license\n",
      "Hay 23729 valores nulos en license\n",
      "Hay 23722 valores nulos en jurisdiction_names\n",
      "Hay 0 valores nulos en instant_bookable\n",
      "Hay 0 valores nulos en is_business_travel_ready\n",
      "Hay 0 valores nulos en cancellation_policy\n",
      "Hay 0 valores nulos en require_guest_profile_picture\n",
      "Hay 0 valores nulos en require_guest_phone_verification\n",
      "Hay 0 valores nulos en calculated_host_listings_count\n",
      "Hay 0 valores nulos en calculated_host_listings_count_entire_homes\n",
      "Hay 0 valores nulos en calculated_host_listings_count_private_rooms\n",
      "Hay 0 valores nulos en calculated_host_listings_count_shared_rooms\n",
      "Hay 6507 valores nulos en reviews_per_month\n"
     ]
    }
   ],
   "source": [
    "# Ahora identifico la cantidad de valores nulos que qudaron en el dataset\n",
    "for column in listings.columns:\n",
    "    print(f'Hay {listings[column].isna().sum()} valores nulos en {column}')"
   ]
  },
  {
   "cell_type": "markdown",
   "metadata": {},
   "source": [
    "Generamos un nuevo df con las columnas que vamos a utilizar"
   ]
  },
  {
   "cell_type": "code",
   "execution_count": 196,
   "metadata": {},
   "outputs": [],
   "source": [
    "listings = listings[\n",
    "    ['id', 'name', 'description', 'host_id', 'host_name', 'street', 'neighbourhood',\n",
    "    'city', 'state', 'market', 'country_code', 'country', 'latitude',\n",
    "    'longitude', 'is_location_exact', 'room_type', 'accommodates', 'bathrooms',\n",
    "    'bedrooms', 'beds', 'bed_type', 'price','minimum_nights', 'maximum_nights', 'calendar_updated',\n",
    "    'has_availability', 'availability_30', 'availability_60', 'availability_90',\n",
    "    'availability_365']\n",
    "]"
   ]
  },
  {
   "cell_type": "code",
   "execution_count": 193,
   "metadata": {},
   "outputs": [
    {
     "name": "stdout",
     "output_type": "stream",
     "text": [
      "Hay 0 valores nulos en id\n",
      "Hay 0 valores nulos en name\n",
      "Hay 0 valores nulos en description\n",
      "Hay 0 valores nulos en host_id\n",
      "Hay 0 valores nulos en host_name\n",
      "Hay 0 valores nulos en street\n",
      "Hay 0 valores nulos en neighbourhood\n",
      "Hay 0 valores nulos en city\n",
      "Hay 0 valores nulos en state\n",
      "Hay 0 valores nulos en market\n",
      "Hay 0 valores nulos en country_code\n",
      "Hay 0 valores nulos en country\n",
      "Hay 0 valores nulos en latitude\n",
      "Hay 0 valores nulos en longitude\n",
      "Hay 0 valores nulos en is_location_exact\n",
      "Hay 0 valores nulos en room_type\n",
      "Hay 0 valores nulos en accommodates\n",
      "Hay 0 valores nulos en bathrooms\n",
      "Hay 0 valores nulos en bedrooms\n",
      "Hay 0 valores nulos en beds\n",
      "Hay 0 valores nulos en bed_type\n",
      "Hay 0 valores nulos en price\n",
      "Hay 0 valores nulos en minimum_nights\n",
      "Hay 0 valores nulos en maximum_nights\n",
      "Hay 0 valores nulos en calendar_updated\n",
      "Hay 0 valores nulos en has_availability\n",
      "Hay 0 valores nulos en availability_30\n",
      "Hay 0 valores nulos en availability_60\n",
      "Hay 0 valores nulos en availability_90\n",
      "Hay 0 valores nulos en availability_365\n"
     ]
    }
   ],
   "source": [
    "# Ahora identifico la cantidad de valores nulos que qudaron en el dataset\n",
    "for column in listings.columns:\n",
    "    print(f'Hay {listings[column].isna().sum()} valores nulos en {column}')"
   ]
  },
  {
   "cell_type": "code",
   "execution_count": 205,
   "metadata": {},
   "outputs": [],
   "source": [
    "listings = listings.dropna()"
   ]
  },
  {
   "cell_type": "code",
   "execution_count": 198,
   "metadata": {},
   "outputs": [
    {
     "data": {
      "text/html": [
       "<div>\n",
       "<style scoped>\n",
       "    .dataframe tbody tr th:only-of-type {\n",
       "        vertical-align: middle;\n",
       "    }\n",
       "\n",
       "    .dataframe tbody tr th {\n",
       "        vertical-align: top;\n",
       "    }\n",
       "\n",
       "    .dataframe thead th {\n",
       "        text-align: right;\n",
       "    }\n",
       "</style>\n",
       "<table border=\"1\" class=\"dataframe\">\n",
       "  <thead>\n",
       "    <tr style=\"text-align: right;\">\n",
       "      <th></th>\n",
       "      <th>id</th>\n",
       "      <th>name</th>\n",
       "      <th>description</th>\n",
       "      <th>host_id</th>\n",
       "      <th>host_name</th>\n",
       "      <th>street</th>\n",
       "      <th>neighbourhood</th>\n",
       "      <th>city</th>\n",
       "      <th>state</th>\n",
       "      <th>market</th>\n",
       "      <th>...</th>\n",
       "      <th>bed_type</th>\n",
       "      <th>price</th>\n",
       "      <th>minimum_nights</th>\n",
       "      <th>maximum_nights</th>\n",
       "      <th>calendar_updated</th>\n",
       "      <th>has_availability</th>\n",
       "      <th>availability_30</th>\n",
       "      <th>availability_60</th>\n",
       "      <th>availability_90</th>\n",
       "      <th>availability_365</th>\n",
       "    </tr>\n",
       "  </thead>\n",
       "  <tbody>\n",
       "    <tr>\n",
       "      <th>0</th>\n",
       "      <td>11508</td>\n",
       "      <td>Amazing Luxurious Apt-Palermo Soho</td>\n",
       "      <td>LUXURIOUS NEW APT: 1 BDRM- POOL/ GYM/ SPA/ 24-...</td>\n",
       "      <td>42762</td>\n",
       "      <td>Candela</td>\n",
       "      <td>Buenos Aires, Capital Federal, Argentina</td>\n",
       "      <td>Palermo</td>\n",
       "      <td>Buenos Aires</td>\n",
       "      <td>Capital Federal</td>\n",
       "      <td>Buenos Aires</td>\n",
       "      <td>...</td>\n",
       "      <td>Real Bed</td>\n",
       "      <td>$3,983.00</td>\n",
       "      <td>2</td>\n",
       "      <td>1125</td>\n",
       "      <td>2 months ago</td>\n",
       "      <td>t</td>\n",
       "      <td>30</td>\n",
       "      <td>60</td>\n",
       "      <td>90</td>\n",
       "      <td>365</td>\n",
       "    </tr>\n",
       "    <tr>\n",
       "      <th>1</th>\n",
       "      <td>12463</td>\n",
       "      <td>Room in Recoleta - awesome location</td>\n",
       "      <td>My apartment is centrally located in Recoleta ...</td>\n",
       "      <td>48799</td>\n",
       "      <td>Matt</td>\n",
       "      <td>Buenos Aires, Capital Federal, Argentina</td>\n",
       "      <td>Recoleta</td>\n",
       "      <td>Buenos Aires</td>\n",
       "      <td>Capital Federal</td>\n",
       "      <td>Buenos Aires</td>\n",
       "      <td>...</td>\n",
       "      <td>Pull-out Sofa</td>\n",
       "      <td>$1,593.00</td>\n",
       "      <td>1</td>\n",
       "      <td>4</td>\n",
       "      <td>22 months ago</td>\n",
       "      <td>t</td>\n",
       "      <td>30</td>\n",
       "      <td>60</td>\n",
       "      <td>90</td>\n",
       "      <td>365</td>\n",
       "    </tr>\n",
       "    <tr>\n",
       "      <th>2</th>\n",
       "      <td>13095</td>\n",
       "      <td>Standard Room at Palermo Viejo B&amp;B</td>\n",
       "      <td>Palermo Viejo B&amp;B is a typical home in one of ...</td>\n",
       "      <td>50994</td>\n",
       "      <td>Ariel</td>\n",
       "      <td>Buenos Aires, Capital Federal, Argentina</td>\n",
       "      <td>Palermo</td>\n",
       "      <td>Buenos Aires</td>\n",
       "      <td>Capital Federal</td>\n",
       "      <td>Buenos Aires</td>\n",
       "      <td>...</td>\n",
       "      <td>Real Bed</td>\n",
       "      <td>$2,987.00</td>\n",
       "      <td>1</td>\n",
       "      <td>365</td>\n",
       "      <td>5 months ago</td>\n",
       "      <td>t</td>\n",
       "      <td>30</td>\n",
       "      <td>60</td>\n",
       "      <td>90</td>\n",
       "      <td>365</td>\n",
       "    </tr>\n",
       "  </tbody>\n",
       "</table>\n",
       "<p>3 rows × 30 columns</p>\n",
       "</div>"
      ],
      "text/plain": [
       "      id                                 name  \\\n",
       "0  11508   Amazing Luxurious Apt-Palermo Soho   \n",
       "1  12463  Room in Recoleta - awesome location   \n",
       "2  13095   Standard Room at Palermo Viejo B&B   \n",
       "\n",
       "                                         description  host_id host_name  \\\n",
       "0  LUXURIOUS NEW APT: 1 BDRM- POOL/ GYM/ SPA/ 24-...    42762   Candela   \n",
       "1  My apartment is centrally located in Recoleta ...    48799      Matt   \n",
       "2  Palermo Viejo B&B is a typical home in one of ...    50994     Ariel   \n",
       "\n",
       "                                     street neighbourhood          city  \\\n",
       "0  Buenos Aires, Capital Federal, Argentina       Palermo  Buenos Aires   \n",
       "1  Buenos Aires, Capital Federal, Argentina      Recoleta  Buenos Aires   \n",
       "2  Buenos Aires, Capital Federal, Argentina       Palermo  Buenos Aires   \n",
       "\n",
       "             state        market  ...       bed_type      price  \\\n",
       "0  Capital Federal  Buenos Aires  ...       Real Bed  $3,983.00   \n",
       "1  Capital Federal  Buenos Aires  ...  Pull-out Sofa  $1,593.00   \n",
       "2  Capital Federal  Buenos Aires  ...       Real Bed  $2,987.00   \n",
       "\n",
       "   minimum_nights  maximum_nights calendar_updated has_availability  \\\n",
       "0               2            1125     2 months ago                t   \n",
       "1               1               4    22 months ago                t   \n",
       "2               1             365     5 months ago                t   \n",
       "\n",
       "   availability_30  availability_60  availability_90  availability_365  \n",
       "0               30               60               90               365  \n",
       "1               30               60               90               365  \n",
       "2               30               60               90               365  \n",
       "\n",
       "[3 rows x 30 columns]"
      ]
     },
     "execution_count": 198,
     "metadata": {},
     "output_type": "execute_result"
    }
   ],
   "source": [
    "listings.head(3)"
   ]
  },
  {
   "cell_type": "code",
   "execution_count": 199,
   "metadata": {},
   "outputs": [
    {
     "data": {
      "text/plain": [
       "array(['Capital Federal', 'Autonomous City of Buenos Aires',\n",
       "       'Ciudad Autónoma de Buenos Aires', 'Buenos Aires',\n",
       "       'Ciudad Autonoma de Buenos Aires', 'CABA', 'Palermo', 'Argentina',\n",
       "       'Buenos aires', 'Ciudad de Buenos Aires', 'BS',\n",
       "       'Ciudad autonoma de buenos aires',\n",
       "       'Ville Autonome de Buenos Aires',\n",
       "       'Ciudad Autonoma de Buenos Aires,',\n",
       "       'Palermo Hollywood, Ciudad Autónoma de Buenos Aires',\n",
       "       'Barrio Norte/Recoleta', 'Humberto Primero Buenos Aires',\n",
       "       'capital federal.Recoleta', 'City of Buenos Aires',\n",
       "       'Autonomen Stadt Buenos Aires', 'BUENOS AIRES',\n",
       "       'Buenos Aires Province', 'capital federal, caballito',\n",
       "       'Città Autonoma di Buenos Aires', 'Capital federal',\n",
       "       'Buenos aires caba', 'C.A.B.A', 'capital federal',\n",
       "       'Ciudad AutÃ³noma de Buenos Aires',\n",
       "       'CIUDAD AUTONOMA DE BUENOS AIRES', 'caba', 'buenos aires',\n",
       "       'Capital Federa', 'capital fedral', 'Buenos Aires City', 'Caba',\n",
       "       'San Telmo,Ciudad Autónoma de Buenos Aires',\n",
       "       'Ciudad Autónoma de Buenos Aires ', 'Caballito',\n",
       "       'Distrito Federal', 'Ciudad autónoma de bs as', 'Bu',\n",
       "       'Ciudad de Buenos Aires/ Almagro', 'Autonomo de Buenos Aires',\n",
       "       'Buenos Aires, Ciudad Autónoma de Buenos Aires', 'villa crespo',\n",
       "       'Balbanera', 'ciudad de buenos aires', 'Capital Federal , Retiro',\n",
       "       'Microcentro', 'DF', 'C. A. B. A.', 'Recoleta',\n",
       "       'CABA. ALTO PALERMO', 'Caba, Capital Federal, Buenos Aires',\n",
       "       'Villa del parque, CABA', 'San Telmo',\n",
       "       ' Buenos Aires, capital federal', 'Ciudad autónoma Buenos Aires',\n",
       "       'Provincia de Buenos Aires', 'Ciudad autónoma de Buenos Aires',\n",
       "       'Capital (CABA) Palermo', 'Muy bueno',\n",
       "       'Ciudad Autónoma de Buenos Aires (CABA)', 'BA', 'Ciudad de Bs As',\n",
       "       'Buenos Aires,', 'Ciudad de Buenos Aires (CABA)',\n",
       "       'Ciudad autonoma de Buenos Aires', '-1', 'Impecable', '[no name]',\n",
       "       'CABA Recoleta'], dtype=object)"
      ]
     },
     "execution_count": 199,
     "metadata": {},
     "output_type": "execute_result"
    }
   ],
   "source": [
    "listings['state'].unique()"
   ]
  },
  {
   "cell_type": "code",
   "execution_count": 200,
   "metadata": {},
   "outputs": [],
   "source": [
    "listings['state'] = listings['state'].str.lower()"
   ]
  },
  {
   "cell_type": "code",
   "execution_count": 201,
   "metadata": {},
   "outputs": [
    {
     "data": {
      "text/plain": [
       "array(['CABA', 'Provincia de Buenos Aires', 'argentina', nan],\n",
       "      dtype=object)"
      ]
     },
     "execution_count": 201,
     "metadata": {},
     "output_type": "execute_result"
    }
   ],
   "source": [
    "# Define una lista de patrones para reemplazar con los valores correctos\n",
    "patterns_to_replace = {\n",
    "    'capital federal': 'CABA', \n",
    "    'autonomous city of buenos aires': 'CABA', \n",
    "    'ciudad autónoma de buenos aires': 'CABA',\n",
    "    'buenos aires': 'Provincia de Buenos Aires',\n",
    "    'caba': 'CABA',\n",
    "    'palermo': 'CABA',\n",
    "    'bs': 'Provincia de Buenos Aires',\n",
    "    'ciudad de buenos aires': 'CABA',\n",
    "    'buenos aires province': 'Provincia de Buenos Aires',\n",
    "    'ciudad autonoma de buenos aires': 'CABA',\n",
    "    'city of buenos aires': 'CABA',\n",
    "    'città autonoma di buenos aires': 'CABA',\n",
    "    'autonomen stadt buenos aires': 'CABA',\n",
    "    'distrito federal': 'CABA',\n",
    "    'df': np.nan,\n",
    "    'bu': np.nan,\n",
    "    'villa crespo': 'CABA',\n",
    "    'balbanera': 'CABA',\n",
    "    'microcentro': 'CABA',\n",
    "    'recoleta': 'CABA',\n",
    "    'caballito': 'CABA',\n",
    "    'san telmo': 'CABA',\n",
    "    'muy bueno': np.nan,\n",
    "    'impecable': np.nan,\n",
    "    '[no name]': np.nan,\n",
    "    '-1': np.nan,\n",
    "    'ciudad de bs as': 'Provincia de Buenos Aires',\n",
    "    'ba': 'Provincia de Buenos Aires',\n",
    "    'ville autonome de buenos aires': 'CABA',\n",
    "    'ciudad autonoma de buenos aires,': 'CABA',\n",
    "    'palermo hollywood, ciudad autónoma de buenos aires': 'CABA',\n",
    "    'barrio norte/recoleta': 'CABA',\n",
    "    'humberto primero buenos aires': 'CABA',\n",
    "    'capital federal.recoleta': 'CABA',\n",
    "    'capital federal, caballito': 'CABA',\n",
    "    'buenos aires caba': 'CABA',\n",
    "    'ciudad autã³noma de buenos aires': 'CABA',\n",
    "    'capital federa': 'CABA',\n",
    "    'capital fedral': 'CABA',\n",
    "    'buenos aires city': 'Provincia de Buenos Aires',\n",
    "    'san telmo,ciudad autónoma de buenos aires': 'CABA',\n",
    "    'ciudad autónoma de buenos aires ': 'CABA',\n",
    "    'ciudad autónoma de bs as': 'Provincia de Buenos Aires',\n",
    "    'ciudad de buenos aires/ almagro': 'CABA',\n",
    "    'autonomo de buenos aires': 'Provincia de Buenos Aires',\n",
    "    'buenos aires, ciudad autónoma de buenos aires': 'CABA',\n",
    "    'capital federal , retiro': 'CABA',\n",
    "    'c. a. b. a.': 'CABA',\n",
    "    'caba. alto palermo': 'CABA',\n",
    "    'caba, capital federal, buenos aires': 'CABA',\n",
    "    'villa del parque, caba': 'CABA',\n",
    "    ' buenos aires, capital federal': 'Provincia de Buenos Aires',\n",
    "    'ciudad autónoma buenos aires': 'CABA',\n",
    "    'provincia de buenos aires': 'Provincia de Buenos Aires',\n",
    "    'capital (caba) palermo': 'CABA',\n",
    "    'ciudad autónoma de buenos aires (caba)': 'CABA',\n",
    "    'buenos aires,': 'Provincia de Buenos Aires',\n",
    "    'ciudad de buenos aires (caba)': 'CABA',\n",
    "    'caba recoleta': 'CABA',\n",
    "    'c.a.b.a' : 'CABA'\n",
    "}\n",
    "\n",
    "# Reemplaza cada patrón en el DataFrame\n",
    "for pattern, replacement in patterns_to_replace.items():\n",
    "    listings['state'] = listings['state'].replace(pattern, replacement)\n",
    "\n",
    "# Reemplaza cualquier cadena vacía con NaN\n",
    "listings['state'].replace('', np.nan, inplace=True)\n",
    "listings = listings.dropna()\n",
    "\n",
    "listings['state'].unique()"
   ]
  },
  {
   "cell_type": "code",
   "execution_count": null,
   "metadata": {},
   "outputs": [],
   "source": [
    "listings.rename(columns={'id': 'id_listings'}, inplace=True)"
   ]
  },
  {
   "cell_type": "code",
   "execution_count": 209,
   "metadata": {},
   "outputs": [
    {
     "data": {
      "text/plain": [
       "Index(['id_listings', 'name', 'description', 'host_id', 'host_name', 'street',\n",
       "       'neighbourhood', 'city', 'state', 'market', 'country_code', 'country',\n",
       "       'latitude', 'longitude', 'is_location_exact', 'room_type',\n",
       "       'accommodates', 'bathrooms', 'bedrooms', 'beds', 'bed_type', 'price',\n",
       "       'minimum_nights', 'maximum_nights', 'calendar_updated',\n",
       "       'has_availability', 'availability_30', 'availability_60',\n",
       "       'availability_90', 'availability_365'],\n",
       "      dtype='object')"
      ]
     },
     "execution_count": 209,
     "metadata": {},
     "output_type": "execute_result"
    }
   ],
   "source": [
    "listings.columns"
   ]
  },
  {
   "cell_type": "code",
   "execution_count": 210,
   "metadata": {},
   "outputs": [],
   "source": [
    "# Generamos un nuevo dataset con los cambios que hicimos \n",
    "listings.to_csv('./Datasets/Listings_nvo.csv', index=False)"
   ]
  },
  {
   "cell_type": "markdown",
   "metadata": {},
   "source": [
    "------------------------------------"
   ]
  },
  {
   "cell_type": "markdown",
   "metadata": {},
   "source": [
    "--------------------------------"
   ]
  }
 ],
 "metadata": {
  "kernelspec": {
   "display_name": "Python 3",
   "language": "python",
   "name": "python3"
  },
  "language_info": {
   "codemirror_mode": {
    "name": "ipython",
    "version": 3
   },
   "file_extension": ".py",
   "mimetype": "text/x-python",
   "name": "python",
   "nbconvert_exporter": "python",
   "pygments_lexer": "ipython3",
   "version": "3.11.9"
  }
 },
 "nbformat": 4,
 "nbformat_minor": 2
}
